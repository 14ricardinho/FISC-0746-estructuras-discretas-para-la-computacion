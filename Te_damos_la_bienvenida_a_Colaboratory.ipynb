{
  "nbformat": 4,
  "nbformat_minor": 0,
  "metadata": {
    "colab": {
      "name": "Te damos la bienvenida a Colaboratory",
      "version": "0.3.2",
      "provenance": [],
      "collapsed_sections": [],
      "toc_visible": true
    },
    "kernelspec": {
      "display_name": "Python 3",
      "name": "python3"
    }
  },
  "cells": [
    {
      "metadata": {
        "colab_type": "text",
        "id": "9J7p406abzgl"
      },
      "cell_type": "markdown",
      "source": [
        "<img height=\"45px\" src=\"https://colab.research.google.com/img/colab_favicon.ico\" align=\"left\" hspace=\"10px\" vspace=\"0px\">\n",
        "\n",
        "<h1>¡Te damos la bienvenida a Colaboratory!</h1>\n",
        "\n",
        "Colaboratory es un entorno gratuito de Jupyter Notebook que no requiere configuración y que se ejecuta completamente en la nube.\n",
        "\n",
        "Colaboratory te permite escribir y ejecutar código, guardar y compartir tus análisis y tener acceso a recursos informáticos muy potentes, todo de forma gratuita desde el navegador."
      ]
    },
    {
      "metadata": {
        "cellView": "form",
        "colab_type": "code",
        "id": "xitplqMNk_Hc",
        "outputId": "ed4f60d2-878d-4056-c438-352dac39a112",
        "colab": {
          "height": 420
        }
      },
      "cell_type": "code",
      "source": [
        "#@title Introducción a Colaboratory\n",
        "#@markdown En este vídeo de tres minutos puedes ver una descripción general de las funciones principales de Colaboratory:\n",
        "from IPython.display import YouTubeVideo\n",
        "YouTubeVideo('inN8seMm7UI', width=600, height=400)"
      ],
      "execution_count": 0,
      "outputs": [
        {
          "output_type": "execute_result",
          "data": {
            "text/html": [
              "\n",
              "        <iframe\n",
              "            width=\"600\"\n",
              "            height=400\"\n",
              "            src=\"https://www.youtube.com/embed/inN8seMm7UI\"\n",
              "            frameborder=\"0\"\n",
              "            allowfullscreen\n",
              "        ></iframe>\n",
              "        "
            ],
            "text/plain": [
              "<IPython.lib.display.YouTubeVideo at 0x7f956e9dda50>"
            ]
          },
          "metadata": {
            "tags": []
          },
          "execution_count": 0
        }
      ]
    },
    {
      "metadata": {
        "colab_type": "text",
        "id": "GJBs_flRovLc"
      },
      "cell_type": "markdown",
      "source": [
        "## Empezar\n",
        "\n",
        "El documento que estás leyendo es un [Jupyter Notebook](https://jupyter.org/) alojado en Colaboratory. No es una página estática, sino un entorno interactivo que te permite escribir y ejecutar código en Python y otros lenguajes de programación.\n",
        "\n",
        "Por ejemplo, a continuación se muestra una **celda de código** con una breve secuencia de comandos de Python que calcula un valor, lo almacena en una variable e imprime el resultado:"
      ]
    },
    {
      "metadata": {
        "colab_type": "code",
        "id": "gJr_9dXGpJ05",
        "outputId": "5626194c-e802-4293-942d-2908885c3c1f",
        "colab": {
          "height": 35
        }
      },
      "cell_type": "code",
      "source": [
        "segundos_que_hay_en_un_día = 24 * 60 * 60\n",
        "segundos_que_hay_en_un_día"
      ],
      "execution_count": 0,
      "outputs": [
        {
          "output_type": "execute_result",
          "data": {
            "text/plain": [
              "86400"
            ]
          },
          "metadata": {
            "tags": []
          },
          "execution_count": 0
        }
      ]
    },
    {
      "metadata": {
        "colab_type": "text",
        "id": "2fhs6GZ4qFMx"
      },
      "cell_type": "markdown",
      "source": [
        "Si quieres ejecutar el código de la celda anterior, haz clic para seleccionarlo y pulsa el ▷ botón situado a la izquierda del código o usa la combinación de teclas \"⌘/Ctrl+Intro\".\n",
        "\n",
        "Todas las celdas modifican el mismo estado global, por lo que las variables que definas al ejecutar una celda se pueden usar en otras celdas:"
      ]
    },
    {
      "metadata": {
        "colab_type": "code",
        "id": "-gE-Ez1qtyIA",
        "outputId": "8d2e4259-4682-4e19-b683-7b9087f28820",
        "colab": {
          "height": 35
        }
      },
      "cell_type": "code",
      "source": [
        "segundos_que_hay_en_una_semana = 7 * segundos_que_hay_en_un_día\n",
        "segundos_que_hay_en_una_semana"
      ],
      "execution_count": 0,
      "outputs": [
        {
          "output_type": "execute_result",
          "data": {
            "text/plain": [
              "604800"
            ]
          },
          "metadata": {
            "tags": []
          },
          "execution_count": 0
        }
      ]
    },
    {
      "metadata": {
        "colab_type": "text",
        "id": "-Rh3-Vt9Nev9"
      },
      "cell_type": "markdown",
      "source": [
        "## Más recursos\n",
        "\n",
        "Descubre cómo sacar el máximo partido de Python, Jupyter, Colaboratory y las herramientas relacionadas con los siguientes recursos:\n",
        "\n",
        "### Curso intensivo de aprendizaje automático\n",
        "A continuación se muestran algunos cuadernos del curso online de Google sobre aprendizaje automático. Para obtener más información, consulta [el sitio web completo del curso](https://developers.google.com/machine-learning/crash-course/).\n",
        "- [Intro to Pandas](/notebooks/mlcc/intro_to_pandas.ipynb)\n",
        "- [Tensorflow concepts](/notebooks/mlcc/tensorflow_programming_concepts.ipynb)\n",
        "- [First steps with TensorFlow](/notebooks/mlcc/first_steps_with_tensor_flow.ipynb)\n",
        "- [Intro to neural nets](/notebooks/mlcc/intro_to_neural_nets.ipynb)\n",
        "- [Intro to sparse data and embeddings](/notebooks/mlcc/intro_to_sparse_data_and_embeddings.ipynb)\n",
        "\n",
        "### Ejemplos de aprendizaje automático: Seedbank\n",
        "\n",
        "Si quieres ver ejemplos completos de los análisis interactivos de aprendizaje automático que se pueden llevar a cabo con Colaboratory, consulta el proyecto [Seedbank](https://research.google.com/seedbank/).\n",
        "\n",
        "A continuación se indican algunos ejemplos destacados:\n",
        "\n",
        "- [Neural Style Transfer](https://research.google.com/seedbank/seed/neural_style_transfer_with_tfkeras): Utilizar el aprendizaje profundo para transferir el estilo de una imagen a otra.\n",
        "- [EZ NSynth](https://research.google.com/seedbank/seed/ez_nsynth): Sintetizar audio con codificadores automáticos WaveNet.\n",
        "- [Fashion MNIST with Keras and TPUs](https://research.google.com/seedbank/seed/fashion_mnist_with_keras_and_tpus): Clasificar imágenes relacionadas con la moda mediante el aprendizaje profundo.\n",
        "- [DeepDream](https://research.google.com/seedbank/seed/deepdream): Producir imágenes DeepDream a partir de tus propias fotos.\n",
        "- [Convolutional VAE](https://research.google.com/seedbank/seed/convolutional_vae): Crear un modelo generativo de dígitos escritos a mano."
      ]
    },
    {
      "metadata": {
        "id": "75g-NrAxTpui",
        "colab_type": "code",
        "colab": {
          "base_uri": "https://localhost:8080/",
          "height": 34
        },
        "outputId": "19fddeac-e05a-44b7-aa12-db192a14f031"
      },
      "cell_type": "code",
      "source": [
        "notas = [91,99,89,63,79]\n",
        "\n",
        "\n",
        "sum (notas)"
      ],
      "execution_count": 2,
      "outputs": [
        {
          "output_type": "execute_result",
          "data": {
            "text/plain": [
              "421"
            ]
          },
          "metadata": {
            "tags": []
          },
          "execution_count": 2
        }
      ]
    },
    {
      "metadata": {
        "id": "IJHAEc3gUebY",
        "colab_type": "code",
        "colab": {
          "base_uri": "https://localhost:8080/",
          "height": 34
        },
        "outputId": "9ac06b27-2d2d-4a38-f0b4-07db2053ec7c"
      },
      "cell_type": "code",
      "source": [
        "len(notas)"
      ],
      "execution_count": 3,
      "outputs": [
        {
          "output_type": "execute_result",
          "data": {
            "text/plain": [
              "5"
            ]
          },
          "metadata": {
            "tags": []
          },
          "execution_count": 3
        }
      ]
    },
    {
      "metadata": {
        "id": "18DU1KDqUp_o",
        "colab_type": "code",
        "colab": {}
      },
      "cell_type": "code",
      "source": [
        "promedio = sum(notas) / len (notas)"
      ],
      "execution_count": 0,
      "outputs": []
    },
    {
      "metadata": {
        "id": "QqzpIZaSU3og",
        "colab_type": "code",
        "colab": {
          "base_uri": "https://localhost:8080/",
          "height": 34
        },
        "outputId": "d15fe629-a1e6-43e9-8405-4a8208c684e4"
      },
      "cell_type": "code",
      "source": [
        "promedio"
      ],
      "execution_count": 7,
      "outputs": [
        {
          "output_type": "execute_result",
          "data": {
            "text/plain": [
              "84.2"
            ]
          },
          "metadata": {
            "tags": []
          },
          "execution_count": 7
        }
      ]
    },
    {
      "metadata": {
        "id": "-XyIKORca9qf",
        "colab_type": "text"
      },
      "cell_type": "markdown",
      "source": [
        "Suma de la lista"
      ]
    },
    {
      "metadata": {
        "id": "PwxKZsmzWll_",
        "colab_type": "code",
        "colab": {}
      },
      "cell_type": "code",
      "source": [
        "x = [2, 3, 4, 10]"
      ],
      "execution_count": 0,
      "outputs": []
    },
    {
      "metadata": {
        "id": "kG_Vm9pZbK_n",
        "colab_type": "code",
        "colab": {
          "base_uri": "https://localhost:8080/",
          "height": 34
        },
        "outputId": "7c7299dc-0d01-4fed-9484-8ab61a3992e2"
      },
      "cell_type": "code",
      "source": [
        "suma = 0\n",
        "for i in x:\n",
        "  suma +=i\n",
        "print(suma)"
      ],
      "execution_count": 35,
      "outputs": [
        {
          "output_type": "stream",
          "text": [
            "104\n"
          ],
          "name": "stdout"
        }
      ]
    },
    {
      "metadata": {
        "id": "KXPPLDbcbVUZ",
        "colab_type": "text"
      },
      "cell_type": "markdown",
      "source": [
        "promedio"
      ]
    },
    {
      "metadata": {
        "id": "6xsdWoy0WOwg",
        "colab_type": "code",
        "colab": {
          "base_uri": "https://localhost:8080/",
          "height": 34
        },
        "outputId": "ef7dfe56-35e5-4ded-842f-70aaece9b688"
      },
      "cell_type": "code",
      "source": [
        "suma = 0\n",
        "for i in x:\n",
        "  suma +=i\n",
        "  j=suma/len(x)\n",
        "print(j)\n",
        "  "
      ],
      "execution_count": 37,
      "outputs": [
        {
          "output_type": "stream",
          "text": [
            "4.75\n"
          ],
          "name": "stdout"
        }
      ]
    },
    {
      "metadata": {
        "id": "cnd5-1xyd2x4",
        "colab_type": "text"
      },
      "cell_type": "markdown",
      "source": [
        "Asignacion final"
      ]
    },
    {
      "metadata": {
        "id": "iswi7UwDeFZ3",
        "colab_type": "code",
        "colab": {}
      },
      "cell_type": "code",
      "source": [
        "a = {161,182,161,154,176,170,167,171,170,174}"
      ],
      "execution_count": 0,
      "outputs": []
    },
    {
      "metadata": {
        "id": "EhXK7BcFfpGy",
        "colab_type": "code",
        "colab": {}
      },
      "cell_type": "code",
      "source": [
        "promedio = sum(a)/len(a)"
      ],
      "execution_count": 0,
      "outputs": []
    },
    {
      "metadata": {
        "id": "3Me_mKJafjQn",
        "colab_type": "code",
        "colab": {
          "base_uri": "https://localhost:8080/",
          "height": 34
        },
        "outputId": "c9791113-25f6-4ebf-a03d-cf61c48e6d32"
      },
      "cell_type": "code",
      "source": [
        "promedio\n"
      ],
      "execution_count": 42,
      "outputs": [
        {
          "output_type": "execute_result",
          "data": {
            "text/plain": [
              "169.375"
            ]
          },
          "metadata": {
            "tags": []
          },
          "execution_count": 42
        }
      ]
    }
  ]
}